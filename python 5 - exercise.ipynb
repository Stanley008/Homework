{
 "cells": [
  {
   "cell_type": "markdown",
   "metadata": {},
   "source": [
    "# W8 - Python files and modules"
   ]
  },
  {
   "cell_type": "markdown",
   "metadata": {},
   "source": [
    "# 1. Write function to read first n lines of a file"
   ]
  },
  {
   "cell_type": "code",
   "execution_count": 2,
   "metadata": {},
   "outputs": [
    {
     "name": "stdout",
     "output_type": "stream",
     "text": [
      "The Zen of Python\n",
      "\n",
      "Beautiful is better than ugly.\n",
      "\n",
      "Explicit is better than implicit.\n",
      "\n"
     ]
    }
   ],
   "source": [
    "def reading(fname, nlines):\n",
    "        from itertools import islice\n",
    "        with open(fname) as f:\n",
    "                for line in islice(f, nlines):\n",
    "                        print(line)\n",
    "                        \n",
    "reading('zen.txt',3)"
   ]
  },
  {
   "cell_type": "markdown",
   "metadata": {},
   "source": [
    "# 2. Create script that will count vowels in string\n",
    "Example\n",
    "```shell\n",
    "$ python find_vowels.py 'hello world'\n",
    "hello world contains 3 vowels\n",
    "```"
   ]
  },
  {
   "cell_type": "code",
   "execution_count": 3,
   "metadata": {},
   "outputs": [
    {
     "name": "stdout",
     "output_type": "stream",
     "text": [
      "asfdasfd :contains 2 vowels.\n"
     ]
    }
   ],
   "source": [
    "#import sys\n",
    "#sentence = sys.argv[1]\n",
    "#def find_vowels(sentence):\n",
    "#    counts=0\n",
    "#    for char in sentence:\n",
    "#        if char in \"aeiouAEIOU\":\n",
    "#              counts = counts+1\n",
    "#    return print(sentence, ':contains', counts, 'vowels.')\n",
    "\n",
    "def find_vowels(sentence):\n",
    "    counts=0\n",
    "    for char in sentence:\n",
    "        if char in \"aeiouAEIOU\":\n",
    "           counts = counts+1\n",
    "    return print(sentence, ':contains', counts, 'vowels.')\n",
    "\n",
    "find_vowels('asfdasfd')"
   ]
  },
  {
   "cell_type": "markdown",
   "metadata": {},
   "source": [
    "# 3. Write function to count number of lines in a file\n",
    "Example\n",
    "```python\n",
    ">>>count_lines('myfile.txt')\n",
    "File has 12 lines\n",
    "```"
   ]
  },
  {
   "cell_type": "code",
   "execution_count": 17,
   "metadata": {},
   "outputs": [
    {
     "name": "stdout",
     "output_type": "stream",
     "text": [
      "File has 20 lines.\n"
     ]
    }
   ],
   "source": [
    "def count_lines(file):\n",
    "    a = 0\n",
    "    with open(file) as f:\n",
    "        for i,l in enumerate(f):\n",
    "            pass\n",
    "    return print('File has {} lines.'.format(i+1))\n",
    "\n",
    "count_lines('zen.txt')"
   ]
  },
  {
   "cell_type": "markdown",
   "metadata": {},
   "source": [
    "# 4. Write function to count occurrence of given word in file\n",
    "Example\n",
    "```python\n",
    ">>>count_occurrence('myfile.txt', 'apple')\n",
    "Searched term apple appeared 10 times\n",
    "```"
   ]
  },
  {
   "cell_type": "code",
   "execution_count": 6,
   "metadata": {},
   "outputs": [
    {
     "name": "stdout",
     "output_type": "stream",
     "text": [
      "Occurrences of the word:\n",
      "8\n"
     ]
    }
   ],
   "source": [
    "def count_occurrence(file, word):\n",
    "    k=0\n",
    "    with open(file, 'r') as f:\n",
    "        for line in f:\n",
    "            words = line.split()\n",
    "            for i in words:\n",
    "                if(i==word):\n",
    "                    k=k+1\n",
    "    print(\"Occurrences of the word:\")\n",
    "    print(k)\n",
    "    \n",
    "count_occurrence('zen.txt', 'better')"
   ]
  },
  {
   "cell_type": "markdown",
   "metadata": {},
   "source": [
    "# 5. Write function to copy the contents of a file to another file\n",
    "\n",
    "```python\n",
    ">>>copy_file('myfile.txt', 'myfile2.txt')\n",
    "```"
   ]
  },
  {
   "cell_type": "code",
   "execution_count": 7,
   "metadata": {},
   "outputs": [],
   "source": [
    "def copy_file(file1, file2):\n",
    "    with open(file1) as f:\n",
    "        with open(file2, \"w\") as f1:\n",
    "            for line in f:\n",
    "                f1.write(line)\n",
    "                \n",
    "copy_file('zen.txt', 'output.txt')"
   ]
  },
  {
   "cell_type": "markdown",
   "metadata": {},
   "source": [
    "# 6. Write function to write nested list to file, each list on separate line\n",
    "Example data `my_list = [['a', 'b', 'c'], [1,2,3]]`"
   ]
  },
  {
   "cell_type": "code",
   "execution_count": 19,
   "metadata": {},
   "outputs": [],
   "source": [
    "def new_list(file, mylist):\n",
    "    with open(file, 'w') as f:\n",
    "        for line in mylist:\n",
    "            f.write(str(line))\n",
    "            f.write('\\n')\n",
    "            \n",
    "my_list = [['a', 'b', 'c'], [1,2,3]]\n",
    "new_list('output.txt', my_list)"
   ]
  },
  {
   "cell_type": "markdown",
   "metadata": {},
   "source": [
    "# 7. Write function to read  random line from a file"
   ]
  },
  {
   "cell_type": "code",
   "execution_count": 10,
   "metadata": {},
   "outputs": [
    {
     "name": "stdout",
     "output_type": "stream",
     "text": [
      "If the implementation is hard to explain, it's a bad idea.\n"
     ]
    }
   ],
   "source": [
    "import random\n",
    "def random_line(file):\n",
    "    lines = open(file).read().splitlines()\n",
    "    return random.choice(lines)\n",
    "\n",
    "print(random_line('zen.txt'))"
   ]
  },
  {
   "cell_type": "markdown",
   "metadata": {},
   "source": [
    "# 8. Write function to read nth, n-1 and n+1 lines of file\n",
    "Example\n",
    "```python\n",
    ">>>read_specific_lines('myfile.txt', 10)\n",
    "```\n",
    "```\n",
    "Errors should never pass silently.\n",
    "Unless explicitly silenced.\n",
    "In the face of ambiguity, refuse the temptation to guess.\n",
    "```"
   ]
  },
  {
   "cell_type": "code",
   "execution_count": 12,
   "metadata": {},
   "outputs": [
    {
     "name": "stdout",
     "output_type": "stream",
     "text": [
      "Explicit is better than implicit.\n",
      "\n",
      "Simple is better than complex.\n",
      "\n",
      "Complex is better than complicated.\n",
      "\n"
     ]
    }
   ],
   "source": [
    "def read_specific_lines(file,no):\n",
    "    sno = 0\n",
    "    tf=open(file)\n",
    "    for sno,line in enumerate(tf):\n",
    "        if sno==no:\n",
    "            print(line)\n",
    "        if sno==no-1:\n",
    "            print(line)\n",
    "        if sno==no-2:\n",
    "            print(line)\n",
    "    tf.close()\n",
    "    \n",
    "read_specific_lines('zen.txt', 4)"
   ]
  },
  {
   "cell_type": "markdown",
   "metadata": {},
   "source": [
    "# 9. Write function to read file and find the longest word\n",
    "Example\n",
    "```python\n",
    ">>>find_longest_word('myfile.txt')\n",
    "supercalifragilisticexpialidocious\n",
    "```"
   ]
  },
  {
   "cell_type": "code",
   "execution_count": 13,
   "metadata": {},
   "outputs": [
    {
     "data": {
      "text/plain": [
       "'apple\\npear\\napricot\\nbanana\\nkiwi\\n'"
      ]
     },
     "execution_count": 13,
     "metadata": {},
     "output_type": "execute_result"
    }
   ],
   "source": [
    "# Is it enough like this? Or should I separate n-lines, commas, dots... etc so it works a bit better correctly ? \n",
    "# I mean this does work correctly because for example n-lines are written like that in txt file. \n",
    "\n",
    "def find_longest_word(file):  \n",
    "    lines = open(file).read().split(\" \") \n",
    "    words = lines\n",
    "    longest_word =  max(words, key=len)\n",
    "    return longest_word\n",
    "\n",
    "find_longest_word('fruits.txt')"
   ]
  },
  {
   "cell_type": "markdown",
   "metadata": {},
   "source": [
    "# 10. Write function to concatenate 2 files together and store them as new file\n",
    "```\n",
    ">>>concatenate_files('myfile1.txt', 'myfile2.txt', 'myfile_new.txt')\n",
    "```"
   ]
  },
  {
   "cell_type": "code",
   "execution_count": 15,
   "metadata": {},
   "outputs": [],
   "source": [
    "def concatenate_files(file1, file2, newfile):\n",
    "    filenames = [file1, file2]\n",
    "    with open(newfile, 'w') as outfile:\n",
    "        for fname in filenames:\n",
    "            with open(fname) as infile:\n",
    "                outfile.write(infile.read())\n",
    "        \n",
    "concatenate_files('zen.txt', 'fruits.txt', 'output.txt')"
   ]
  },
  {
   "cell_type": "markdown",
   "metadata": {},
   "source": [
    "# BONUS: Write function to read file and print only words containing letters 'p', 'y', 't', 'o' or 'n' and make these letters uppercase\n",
    "Example\n",
    "```python\n",
    ">>>print_selected_words('myfile.txt')\n",
    "lOve\n",
    "simPliciTY\n",
    "PaTieNce\n",
    "```"
   ]
  },
  {
   "cell_type": "code",
   "execution_count": null,
   "metadata": {},
   "outputs": [],
   "source": []
  }
 ],
 "metadata": {
  "kernelspec": {
   "display_name": "Python 3",
   "language": "python",
   "name": "python3"
  },
  "language_info": {
   "codemirror_mode": {
    "name": "ipython",
    "version": 3
   },
   "file_extension": ".py",
   "mimetype": "text/x-python",
   "name": "python",
   "nbconvert_exporter": "python",
   "pygments_lexer": "ipython3",
   "version": "3.7.0"
  }
 },
 "nbformat": 4,
 "nbformat_minor": 2
}

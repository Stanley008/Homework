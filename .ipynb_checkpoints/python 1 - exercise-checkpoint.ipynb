{
 "cells": [
  {
   "cell_type": "markdown",
   "metadata": {},
   "source": [
    "# W4 - Python data types assignment"
   ]
  },
  {
   "cell_type": "markdown",
   "metadata": {},
   "source": [
    "# 1. Print word `python` in reverse order"
   ]
  },
  {
   "cell_type": "code",
   "execution_count": 7,
   "metadata": {},
   "outputs": [
    {
     "name": "stdout",
     "output_type": "stream",
     "text": [
      "am\n"
     ]
    }
   ],
   "source": [
    "print('am')"
   ]
  },
  {
   "cell_type": "code",
   "execution_count": 8,
   "metadata": {},
   "outputs": [
    {
     "name": "stdout",
     "output_type": "stream",
     "text": [
      "am\n"
     ]
    }
   ],
   "source": [
    "print('am')"
   ]
  },
  {
   "cell_type": "code",
   "execution_count": null,
   "metadata": {},
   "outputs": [],
   "source": []
  },
  {
   "cell_type": "code",
   "execution_count": null,
   "metadata": {},
   "outputs": [],
   "source": []
  },
  {
   "cell_type": "code",
   "execution_count": 6,
   "metadata": {},
   "outputs": [
    {
     "ename": "NameError",
     "evalue": "name 'a' is not defined",
     "output_type": "error",
     "traceback": [
      "\u001b[0;31m---------------------------------------------------------------------------\u001b[0m",
      "\u001b[0;31mNameError\u001b[0m                                 Traceback (most recent call last)",
      "\u001b[0;32m<ipython-input-6-3f786850e387>\u001b[0m in \u001b[0;36m<module>\u001b[0;34m()\u001b[0m\n\u001b[0;32m----> 1\u001b[0;31m \u001b[0ma\u001b[0m\u001b[0;34m\u001b[0m\u001b[0m\n\u001b[0m",
      "\u001b[0;31mNameError\u001b[0m: name 'a' is not defined"
     ]
    }
   ],
   "source": [
    "a"
   ]
  },
  {
   "cell_type": "markdown",
   "metadata": {},
   "source": [
    "# 2. Define variables `apples` and `oranges` and using `format` methos print following string:\n",
    ">I have **7** apples and **5** oranges, therefore I have **12** fruits.`"
   ]
  },
  {
   "cell_type": "code",
   "execution_count": 5,
   "metadata": {},
   "outputs": [
    {
     "data": {
      "text/plain": [
       "'I have 7 apples and 5 oranges, therefore I have 12 fruits.'"
      ]
     },
     "execution_count": 5,
     "metadata": {},
     "output_type": "execute_result"
    }
   ],
   "source": [
    "'I have {0} apples and {1} oranges, therefore I have {2} fruits.' .format(apples, oranges, fruits)"
   ]
  },
  {
   "cell_type": "markdown",
   "metadata": {},
   "source": [
    "# 3. Convert list of characters (`['a', 'b', 'c', 'd']`) to string (`'abc'`)"
   ]
  },
  {
   "cell_type": "code",
   "execution_count": 8,
   "metadata": {},
   "outputs": [
    {
     "data": {
      "text/plain": [
       "'abc'"
      ]
     },
     "execution_count": 8,
     "metadata": {},
     "output_type": "execute_result"
    }
   ],
   "source": [
    "''.join(a)"
   ]
  },
  {
   "cell_type": "markdown",
   "metadata": {},
   "source": [
    "# 4. Get difference betweet two lists (e.g. `[1, 2, 3, 4, 8, 12]` and `[1, 4, 8, 2]`)"
   ]
  },
  {
   "cell_type": "code",
   "execution_count": 11,
   "metadata": {},
   "outputs": [
    {
     "data": {
      "text/plain": [
       "['12', '3']"
      ]
     },
     "execution_count": 11,
     "metadata": {},
     "output_type": "execute_result"
    }
   ],
   "source": [
    "list(set(list1) - set(list2))"
   ]
  },
  {
   "cell_type": "markdown",
   "metadata": {},
   "source": [
    "# 5. Add an item to a tuple\n",
    "```python\n",
    "tuple_numbers = (4, 6, 2, 8, 3, 1) \n",
    "```"
   ]
  },
  {
   "cell_type": "code",
   "execution_count": 13,
   "metadata": {},
   "outputs": [],
   "source": [
    "tuple_numbers = tuple_numbers + (100, )"
   ]
  },
  {
   "cell_type": "markdown",
   "metadata": {},
   "source": [
    "# 6. Convert a tuple to a string\n",
    "```python\n",
    "what_i_want_to_do = ('p', 'y', 't', 'h', 'o', 'n')\n",
    "```"
   ]
  },
  {
   "cell_type": "code",
   "execution_count": 15,
   "metadata": {},
   "outputs": [],
   "source": [
    "output_string =  ''.join(input_tuple)"
   ]
  },
  {
   "cell_type": "markdown",
   "metadata": {},
   "source": [
    "# 7. Combine two dictionaries into one\n",
    "\n",
    "```python\n",
    "names1 = {'Jack': 25, 'John': 26, 'Emily': 23}\n",
    "names2 = {'Carol': 28, 'Walter': 22}\n",
    "```"
   ]
  },
  {
   "cell_type": "code",
   "execution_count": 18,
   "metadata": {},
   "outputs": [],
   "source": [
    "names2.update(names1)"
   ]
  },
  {
   "cell_type": "markdown",
   "metadata": {},
   "source": [
    "# 8. Sum all the items in a dictionary\n",
    "```python\n",
    "ice_cream_price = {'Chocolate': 200, 'Strawberry': 188, 'Vanilla': 175, 'Caramel': 180}\n",
    "```"
   ]
  },
  {
   "cell_type": "code",
   "execution_count": 20,
   "metadata": {},
   "outputs": [
    {
     "data": {
      "text/plain": [
       "743"
      ]
     },
     "execution_count": 20,
     "metadata": {},
     "output_type": "execute_result"
    }
   ],
   "source": [
    "sum(ice_cream_price.values())"
   ]
  },
  {
   "cell_type": "markdown",
   "metadata": {},
   "source": [
    "# 9. Remove item(s) from set. Can you gess which item will be removed?\n",
    "```python\n",
    "set_numbers = {1, 2, 3, 4, 5}\n",
    "set_letters = {'p', 'y', 't', 'h', 'o', 'n'}\n",
    "```"
   ]
  },
  {
   "cell_type": "code",
   "execution_count": null,
   "metadata": {},
   "outputs": [],
   "source": [
    "set.remove(element)"
   ]
  },
  {
   "cell_type": "markdown",
   "metadata": {},
   "source": [
    "# 10. split list into 3 different variables \n",
    "```python\n",
    "color = [\n",
    "    (\"Black\", \"#000000\", \"rgb(0, 0, 0)\"), \n",
    "    (\"Red\", \"#FF0000\", \"rgb(255, 0, 0)\"), \n",
    "    (\"Yellow\", \"#FFFF00\", \"rgb(255, 255, 0)\")\n",
    "]\n",
    "```"
   ]
  },
  {
   "cell_type": "code",
   "execution_count": 23,
   "metadata": {},
   "outputs": [
    {
     "name": "stdout",
     "output_type": "stream",
     "text": [
      "('Black', '#000000', 'rgb(0, 0, 0)')\n",
      "('Red', '#FF0000', 'rgb(255, 0, 0)')\n",
      "('Yellow', '#FFFF00', 'rgb(255, 255, 0)')\n"
     ]
    }
   ],
   "source": [
    "var1, var2, var3 = color\n",
    "print(var1)\n",
    "print(var2)\n",
    "print(var3)\n"
   ]
  },
  {
   "cell_type": "markdown",
   "metadata": {},
   "source": [
    "# BONUS: test whether every element of first set is in second set ans vice versa using using relational operators\n",
    "```python\n",
    "set_a = set(['Chocolate', 'Strawberry', 'Vanilla', 'Caramel'])\n",
    "set_b = set(['Vanilla', 'Caramel','Chocolate', 'Strawberry'])\n",
    "set_c = set(['Chocolate'])\n",
    "```"
   ]
  },
  {
   "cell_type": "code",
   "execution_count": 24,
   "metadata": {},
   "outputs": [],
   "source": [
    "set_a = set(['Chocolate', 'Strawberry', 'Vanilla', 'Caramel'])\n",
    "set_b = set(['Vanilla', 'Caramel','Chocolate', 'Strawberry'])\n",
    "set_c = set(['Chocolate'])"
   ]
  },
  {
   "cell_type": "code",
   "execution_count": 25,
   "metadata": {},
   "outputs": [
    {
     "data": {
      "text/plain": [
       "{'Caramel', 'Chocolate', 'Strawberry', 'Vanilla'}"
      ]
     },
     "execution_count": 25,
     "metadata": {},
     "output_type": "execute_result"
    }
   ],
   "source": [
    "set_a.intersection(set_b)\n",
    "set_b.intersection(set_a)"
   ]
  },
  {
   "cell_type": "code",
   "execution_count": null,
   "metadata": {},
   "outputs": [],
   "source": []
  }
 ],
 "metadata": {
  "kernelspec": {
   "display_name": "Python 3",
   "language": "python",
   "name": "python3"
  },
  "language_info": {
   "codemirror_mode": {
    "name": "ipython",
    "version": 3
   },
   "file_extension": ".py",
   "mimetype": "text/x-python",
   "name": "python",
   "nbconvert_exporter": "python",
   "pygments_lexer": "ipython3",
   "version": "3.7.0"
  }
 },
 "nbformat": 4,
 "nbformat_minor": 2
}

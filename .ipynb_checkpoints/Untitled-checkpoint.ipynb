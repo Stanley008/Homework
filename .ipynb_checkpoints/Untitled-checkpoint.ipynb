{
 "cells": [
  {
   "cell_type": "code",
   "execution_count": 6,
   "metadata": {},
   "outputs": [
    {
     "data": {
      "text/plain": [
       "[1, 2, 3]"
      ]
     },
     "execution_count": 6,
     "metadata": {},
     "output_type": "execute_result"
    }
   ],
   "source": [
    "multiply = ([1,2,3,2])\n",
    "multiply\n",
    "del multiply[-1]\n",
    "multiply"
   ]
  },
  {
   "cell_type": "code",
   "execution_count": 12,
   "metadata": {},
   "outputs": [
    {
     "name": "stdout",
     "output_type": "stream",
     "text": [
      "[1, 2, 1, 2]\n"
     ]
    }
   ],
   "source": [
    "def multiply(numbers):\n",
    "    multiplya = numbers\n",
    "    del multiplya[-1]\n",
    "    multiplyb = numbers[-1]\n",
    "    for numbers in multiplya:\n",
    "        result = multiplya * multiplyb\n",
    "    return result\n",
    "print(multiply([1, 2, 3]))"
   ]
  },
  {
   "cell_type": "code",
   "execution_count": null,
   "metadata": {},
   "outputs": [],
   "source": [
    " for x in myList: \n",
    "         result = result * x  \n",
    "    return result  "
   ]
  },
  {
   "cell_type": "code",
   "execution_count": 10,
   "metadata": {},
   "outputs": [
    {
     "data": {
      "text/plain": [
       "3"
      ]
     },
     "execution_count": 10,
     "metadata": {},
     "output_type": "execute_result"
    }
   ],
   "source": [
    "numbers = ([1,2,3])\n",
    "multiplyb = numbers[-1]\n",
    "multiplyb"
   ]
  },
  {
   "cell_type": "code",
   "execution_count": null,
   "metadata": {},
   "outputs": [],
   "source": [
    "my_list = [1, 2, 3, 4, 5]\n",
    "my_new_list = [i * 5 for i in my_list]"
   ]
  },
  {
   "cell_type": "code",
   "execution_count": 21,
   "metadata": {},
   "outputs": [
    {
     "name": "stdout",
     "output_type": "stream",
     "text": [
      "[3, 21, 9]\n",
      "[3, 21, 9, 9]\n",
      "[7, 49]\n",
      "[1]\n"
     ]
    }
   ],
   "source": [
    "def multiply(numbers):\n",
    "    multiplya = numbers\n",
    "    del multiplya[-1]\n",
    "    multiplyb = numbers[-1]\n",
    "    result = [x * multiplyb for x in multiplya]\n",
    "    return result\n",
    "print(multiply([1, 7, 3, 3]))\n",
    "print(multiply([1, 7, 3, 3, 3]))\n",
    "print(multiply([1, 7, 3]))\n",
    "print(multiply([1, 7]))\n"
   ]
  },
  {
   "cell_type": "code",
   "execution_count": 23,
   "metadata": {},
   "outputs": [
    {
     "name": "stdout",
     "output_type": "stream",
     "text": [
      "[1, 7, 3]\n",
      "3\n",
      "[3, 21, 9]\n",
      "[1, 7, 3, 3]\n",
      "3\n",
      "[3, 21, 9, 9]\n",
      "[1, 7]\n",
      "7\n",
      "[7, 49]\n",
      "[1]\n",
      "1\n",
      "[1]\n"
     ]
    }
   ],
   "source": [
    "def multiply(numbers):\n",
    "    multiplya = numbers\n",
    "    del multiplya[-1]\n",
    "    print(multiplya)\n",
    "    multiplyb = numbers[-1]\n",
    "    print(multiplyb)\n",
    "    result = [x * multiplyb for x in multiplya]\n",
    "    return result\n",
    "print(multiply([1, 7, 3, 3]))\n",
    "print(multiply([1, 7, 3, 3, 3]))\n",
    "print(multiply([1, 7, 3]))\n",
    "print(multiply([1, 7]))\n",
    "\n"
   ]
  },
  {
   "cell_type": "code",
   "execution_count": 24,
   "metadata": {},
   "outputs": [
    {
     "name": "stdout",
     "output_type": "stream",
     "text": [
      "[1, 7, 3]\n",
      "3\n",
      "[3, 21, 9]\n"
     ]
    }
   ],
   "source": [
    "def multiply(numbers):\n",
    "    multiplya = numbers\n",
    "    del multiplya[-1]\n",
    "    print(multiplya)\n",
    "    multiplyb = numbers[-1]\n",
    "    print(multiplyb)\n",
    "    result = [x * multiplyb for x in multiplya]\n",
    "    return result\n",
    "print(multiply([1, 7, 3, 3]))"
   ]
  },
  {
   "cell_type": "code",
   "execution_count": 26,
   "metadata": {},
   "outputs": [
    {
     "name": "stdout",
     "output_type": "stream",
     "text": [
      "[1, 7]\n",
      "3\n",
      "[3, 21]\n"
     ]
    }
   ],
   "source": [
    "def multiply(numbers):\n",
    "    multiplyb = numbers[-1]\n",
    "    multiplya = numbers\n",
    "    del multiplya[-1]\n",
    "    print(multiplya)\n",
    "    print(multiplyb)\n",
    "    result = [x * multiplyb for x in multiplya]\n",
    "    return result\n",
    "print(multiply([1, 7, 3]))"
   ]
  },
  {
   "cell_type": "code",
   "execution_count": 27,
   "metadata": {},
   "outputs": [
    {
     "name": "stdout",
     "output_type": "stream",
     "text": [
      "[1, 7, 3]\n",
      "3\n",
      "[3, 21, 9]\n"
     ]
    }
   ],
   "source": [
    "def multiply(numbers):\n",
    "    multiplyb = numbers[-1]\n",
    "    multiplya = numbers\n",
    "    del multiplya[-1]\n",
    "    print(multiplya)\n",
    "    print(multiplyb)\n",
    "    result = [x * multiplyb for x in multiplya]\n",
    "    return result\n",
    "print(multiply([1, 7, 3, 3]))"
   ]
  },
  {
   "cell_type": "code",
   "execution_count": 33,
   "metadata": {},
   "outputs": [
    {
     "name": "stdout",
     "output_type": "stream",
     "text": [
      "0.375\n"
     ]
    }
   ],
   "source": [
    "emails = [\n",
    "    'james1@example.com', 'januline12@januline.com', 'fillip.morris@pm.com', 'ray@bradbury.org', 'me+you@hotmail.com', 'seven11@gmail.com', 'noreply@msd.com', 'cars4u@tesla.com' \n",
    "]\n",
    "\n",
    "def find_symbol_emails(variable, symbol):\n",
    "    num_count = 0\n",
    "    for email in variable:\n",
    "        for character in email:\n",
    "            if character == symbol:\n",
    "                num_count += 1\n",
    "                break\n",
    "            elif character == '@':\n",
    "                break\n",
    "    return num_count / len(variable)\n",
    "\n",
    "print(find_symbol_emails(emails, '1'))\n"
   ]
  },
  {
   "cell_type": "code",
   "execution_count": 34,
   "metadata": {},
   "outputs": [
    {
     "name": "stdout",
     "output_type": "stream",
     "text": [
      "0.375\n"
     ]
    }
   ],
   "source": [
    "emails = [\n",
    "    'james1@example.com', 'januline12@januline.com', 'fillip.morris@pm.com', 'ray@bradbury.org', 'me+you@hotmail.com', 'seven11@gmail.com', 'noreply@msd.com', 'cars4u@tesla.com' \n",
    "]\n",
    "\n",
    "def find_symbol_emails(variable, symbol):\n",
    "    num_count = 0\n",
    "    for email in variable:\n",
    "        for character in email:\n",
    "            if character == symbol:\n",
    "                num_count += 1\n",
    "                break\n",
    "            elif character == '@':\n",
    "                break\n",
    "    return num_count / len(emails)\n",
    "\n",
    "print(find_symbol_emails(emails, '1'))\n",
    "\n"
   ]
  },
  {
   "cell_type": "code",
   "execution_count": 37,
   "metadata": {},
   "outputs": [
    {
     "name": "stdout",
     "output_type": "stream",
     "text": [
      "0.25\n"
     ]
    }
   ],
   "source": [
    "emails = [\n",
    "    'james1@example.com', 'januline12@januline.com', 'fillip.morris@pm.com', 'ray@bradbury.org', 'me+you@hotmail.com', 'seven11@gmail.com', 'noreply@msd.com', 'cars4u@tesla.com' \n",
    "]\n",
    "\n",
    "def find_symbol_emails(variable, symbol):\n",
    "    num_count = 0\n",
    "    for email in variable:\n",
    "        for character in email:\n",
    "            if character == symbol:\n",
    "                num_count += 1\n",
    "                break\n",
    "    return num_count / len(emails)\n",
    "\n",
    "print(find_symbol_emails(emails, 'j'))\n",
    "\n",
    "\n"
   ]
  },
  {
   "cell_type": "code",
   "execution_count": 41,
   "metadata": {},
   "outputs": [
    {
     "name": "stdout",
     "output_type": "stream",
     "text": [
      "0.125\n"
     ]
    }
   ],
   "source": [
    "emails = [\n",
    "    'james1@example.com', 'januline12@januline.com', 'fillip.morris@pm.com', 'ray@bradbury.org', \n",
    "    'me+you@hotmail.com', 'seven11@gmail.com', 'noreply@msd.com', 'cars4u@tesla.com' \n",
    "]\n",
    "\n",
    "def find_symbol_emails(variable, symbol):\n",
    "    num_count = 0\n",
    "    for email in variable:\n",
    "        for character in email:\n",
    "            if character == symbol:\n",
    "                num_count += 1\n",
    "                break\n",
    "    return num_count / len(emails)\n",
    "\n",
    "print(find_symbol_emails(emails, 'x'))\n",
    "\n",
    "\n"
   ]
  },
  {
   "cell_type": "code",
   "execution_count": 43,
   "metadata": {},
   "outputs": [
    {
     "name": "stdout",
     "output_type": "stream",
     "text": [
      "{'1': 0.375, '2': 0.125, '+': 0.125, '.': 1.0}\n"
     ]
    }
   ],
   "source": [
    "def find_symbol_list_emails(list_email, list_symbol):\n",
    "    return {symbol:find_symbol_emails(list_email, symbol) for symbol in list_symbol}\n",
    "print(find_symbol_list_emails(emails, ['1', '2', '+', '.']))\n"
   ]
  },
  {
   "cell_type": "code",
   "execution_count": 51,
   "metadata": {},
   "outputs": [
    {
     "name": "stdout",
     "output_type": "stream",
     "text": [
      "{'1': 0.375, '2': 0.125, '+': 0.125, '.': 1.0}\n"
     ]
    }
   ],
   "source": [
    "def find_symbol_list_emails(emails, symbols):    \n",
    "    return {symbol:find_symbol_emails(emails, symbol) for symbol in symbols}\n",
    "print(find_symbol_list_emails(emails, ['1', '2', '+', '.']))\n",
    "\n"
   ]
  },
  {
   "cell_type": "code",
   "execution_count": 52,
   "metadata": {},
   "outputs": [
    {
     "ename": "SyntaxError",
     "evalue": "invalid syntax (<ipython-input-52-842c9ec730cc>, line 3)",
     "output_type": "error",
     "traceback": [
      "\u001b[0;36m  File \u001b[0;32m\"<ipython-input-52-842c9ec730cc>\"\u001b[0;36m, line \u001b[0;32m3\u001b[0m\n\u001b[0;31m    def permutations(a)\u001b[0m\n\u001b[0m                       ^\u001b[0m\n\u001b[0;31mSyntaxError\u001b[0m\u001b[0;31m:\u001b[0m invalid syntax\n"
     ]
    }
   ],
   "source": [
    "permutations('abc')\n",
    "\n",
    "def permutations(a)"
   ]
  },
  {
   "cell_type": "code",
   "execution_count": 70,
   "metadata": {},
   "outputs": [
    {
     "name": "stdout",
     "output_type": "stream",
     "text": [
      "Type first letter: g\n",
      "Type second letter: h\n",
      "Type third letter: j\n"
     ]
    }
   ],
   "source": [
    "def perm(perm1, perm2,perm3):\n",
    "    perm1 = input('Type first letter: ')\n",
    "    perm2 = input('Type second letter: ')\n",
    "    perm3 = input('Type third letter: ')\n",
    "    print(perm1, perm2, perm3)\n",
    "   "
   ]
  },
  {
   "cell_type": "code",
   "execution_count": 71,
   "metadata": {},
   "outputs": [
    {
     "name": "stdout",
     "output_type": "stream",
     "text": [
      "g h j\n"
     ]
    }
   ],
   "source": [
    "perm(perm1, perm2, perm3)"
   ]
  },
  {
   "cell_type": "code",
   "execution_count": 75,
   "metadata": {},
   "outputs": [],
   "source": [
    "def perm(perm1, perm2, perm3):\n",
    "    perm1 = input('Type first letter: ')\n",
    "    perm2 = input('Type second letter: ')\n",
    "    perm3 = input('Type third letter: ')\n",
    "    print(perm1, perm2, perm3)\n",
    "   "
   ]
  },
  {
   "cell_type": "code",
   "execution_count": 73,
   "metadata": {},
   "outputs": [
    {
     "data": {
      "text/plain": [
       "<function __main__.perm(perm1, perm2, perm3)>"
      ]
     },
     "execution_count": 73,
     "metadata": {},
     "output_type": "execute_result"
    }
   ],
   "source": [
    "perm"
   ]
  },
  {
   "cell_type": "code",
   "execution_count": 74,
   "metadata": {},
   "outputs": [
    {
     "ename": "TypeError",
     "evalue": "perm() missing 3 required positional arguments: 'perm1', 'perm2', and 'perm3'",
     "output_type": "error",
     "traceback": [
      "\u001b[0;31m---------------------------------------------------------------------------\u001b[0m",
      "\u001b[0;31mTypeError\u001b[0m                                 Traceback (most recent call last)",
      "\u001b[0;32m<ipython-input-74-c9b4c1d5e5dd>\u001b[0m in \u001b[0;36m<module>\u001b[0;34m()\u001b[0m\n\u001b[0;32m----> 1\u001b[0;31m \u001b[0mperm\u001b[0m\u001b[0;34m(\u001b[0m\u001b[0;34m)\u001b[0m\u001b[0;34m\u001b[0m\u001b[0m\n\u001b[0m",
      "\u001b[0;31mTypeError\u001b[0m: perm() missing 3 required positional arguments: 'perm1', 'perm2', and 'perm3'"
     ]
    }
   ],
   "source": [
    "perm()"
   ]
  },
  {
   "cell_type": "code",
   "execution_count": 78,
   "metadata": {},
   "outputs": [
    {
     "name": "stdout",
     "output_type": "stream",
     "text": [
      "Type first letter: a\n",
      "Type second letter: b\n",
      "Type third letter: c\n"
     ]
    }
   ],
   "source": [
    "perm1 = input('Type first letter: ')\n",
    "perm2 = input('Type second letter: ')\n",
    "perm3 = input('Type third letter: ')\n",
    "def perm(perm1, perm2, perm3):\n",
    "    print(perm(perm1, perm2, perm3))\n",
    "   "
   ]
  },
  {
   "cell_type": "code",
   "execution_count": null,
   "metadata": {},
   "outputs": [],
   "source": [
    "def perm(perm1, perm2, perm3):\n",
    "    perm1 = input('Type first letter: ')\n",
    "    perm2 = input('Type second letter: ')\n",
    "    perm3 = input('Type third letter: ')\n",
    "    print(perm1, perm2, perm3)\n",
    "   "
   ]
  },
  {
   "cell_type": "code",
   "execution_count": 80,
   "metadata": {},
   "outputs": [
    {
     "data": {
      "text/plain": [
       "<function __main__.perm(perm1, perm2, perm3)>"
      ]
     },
     "execution_count": 80,
     "metadata": {},
     "output_type": "execute_result"
    }
   ],
   "source": [
    "perm"
   ]
  },
  {
   "cell_type": "code",
   "execution_count": null,
   "metadata": {},
   "outputs": [],
   "source": [
    "perm(perm1, perm2, perm3)"
   ]
  },
  {
   "cell_type": "code",
   "execution_count": null,
   "metadata": {},
   "outputs": [],
   "source": [
    "def perm(a, b, c):\n",
    "    print(a, b, c)\n",
    "   "
   ]
  },
  {
   "cell_type": "code",
   "execution_count": null,
   "metadata": {},
   "outputs": [],
   "source": [
    "perm('123')"
   ]
  },
  {
   "cell_type": "code",
   "execution_count": null,
   "metadata": {},
   "outputs": [],
   "source": [
    "import itertools\n",
    "list(itertools.permutations([1, 2, 3]))"
   ]
  },
  {
   "cell_type": "code",
   "execution_count": null,
   "metadata": {},
   "outputs": [],
   "source": [
    "print(permutations)"
   ]
  },
  {
   "cell_type": "code",
   "execution_count": null,
   "metadata": {},
   "outputs": [],
   "source": []
  }
 ],
 "metadata": {
  "kernelspec": {
   "display_name": "Python 3",
   "language": "python",
   "name": "python3"
  },
  "language_info": {
   "codemirror_mode": {
    "name": "ipython",
    "version": 3
   },
   "file_extension": ".py",
   "mimetype": "text/x-python",
   "name": "python",
   "nbconvert_exporter": "python",
   "pygments_lexer": "ipython3",
   "version": "3.7.0"
  }
 },
 "nbformat": 4,
 "nbformat_minor": 2
}

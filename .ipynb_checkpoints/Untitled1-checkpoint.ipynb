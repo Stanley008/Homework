{
 "cells": [
  {
   "cell_type": "code",
   "execution_count": 7,
   "metadata": {},
   "outputs": [
    {
     "name": "stdout",
     "output_type": "stream",
     "text": [
      "Input exam grade one: 80\n",
      "Input exam grade two: 80\n",
      "Input exam grade three: 80\n",
      "Exam: 80\n",
      "Average: 80.0\n",
      "Grade: B\n",
      "Student is passing.\n"
     ]
    }
   ],
   "source": [
    "exam_one = int(input(\"Input exam grade one: \"))\n",
    "exam_two = int(input(\"Input exam grade two: \"))\n",
    "exam_three = int(input(\"Input exam grade three: \"))\n",
    "\n",
    "summ = exam_one + exam_two + exam_three\n",
    "\n",
    "avg = summ / 3\n",
    "\n",
    "grades = [exam_one, exam_two, exam_three]\n",
    "for grade in grades:\n",
    "    summ = exam_one + exam_two + exam_three\n",
    "   \n",
    "\n",
    "    if avg >= 90:\n",
    "        letter_grade = \"A\"\n",
    "    elif avg >= 80 and avg < 90:\n",
    "        letter_grade = \"B\"\n",
    "    elif avg > 69 and avg < 80:\n",
    "        letter_grade = \"C\"\n",
    "    elif avg <= 69 and avg >= 65:\n",
    "        letter_grade = \"D\"\n",
    "    else:\n",
    "        letter_grade = \"F\"\n",
    "\n",
    "\n",
    "if letter_grade is \"F\":\n",
    "    print(\"Student is failing.\")\n",
    "else:\n",
    "    print(\"Exam: \" + str(grade))\n",
    "    print(\"Average: \" + str(avg))\n",
    "    print(\"Grade: \" + letter_grade)\n",
    "    print(\"Student is passing.\")"
   ]
  },
  {
   "cell_type": "markdown",
   "metadata": {},
   "source": [
    "# "
   ]
  }
 ],
 "metadata": {
  "kernelspec": {
   "display_name": "Python 3",
   "language": "python",
   "name": "python3"
  },
  "language_info": {
   "codemirror_mode": {
    "name": "ipython",
    "version": 3
   },
   "file_extension": ".py",
   "mimetype": "text/x-python",
   "name": "python",
   "nbconvert_exporter": "python",
   "pygments_lexer": "ipython3",
   "version": "3.7.0"
  }
 },
 "nbformat": 4,
 "nbformat_minor": 2
}

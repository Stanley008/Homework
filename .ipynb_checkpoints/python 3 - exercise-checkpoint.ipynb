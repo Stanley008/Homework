{
 "cells": [
  {
   "cell_type": "markdown",
   "metadata": {},
   "source": [
    "# W6 - Python functions assignment"
   ]
  },
  {
   "cell_type": "markdown",
   "metadata": {},
   "source": [
    "# 1. You are investigating set of suspicious emails\n",
    "You read article that clients with numbers in email addresses are more likely to commit fraud.\n",
    "Create function that will take as parameters list of emails and searched symbol and will return ratio of emails containing given symbol.\n",
    "\n",
    "Example\n",
    "```python\n",
    "emails = [\n",
    "    'james1@example.com', 'januline12@januline.com', 'fillip.morris@pm.com', 'ray@bradbury.org', 'me+you@hotmail.com', 'seven11@gmail.com', 'noreply@msd.com', 'cars4u@tesla.com' \n",
    "]\n",
    ">>> find_symbol_emails(emails, '1')\n",
    "0.375\n",
    "```"
   ]
  },
  {
   "cell_type": "code",
   "execution_count": 2,
   "metadata": {},
   "outputs": [
    {
     "name": "stdout",
     "output_type": "stream",
     "text": [
      "0.375\n",
      "0.125\n"
     ]
    }
   ],
   "source": [
    "emails = [\n",
    "    'james1@example.com', 'januline12@januline.com', 'fillip.morris@pm.com', 'ray@bradbury.org', \n",
    "    'me+you@hotmail.com', 'seven11@gmail.com', 'noreply@msd.com', 'cars4u@tesla.com' \n",
    "]\n",
    "\n",
    "def find_symbol_emails(variable, symbol):\n",
    "    num_count = 0\n",
    "    for email in variable:\n",
    "        for character in email:\n",
    "            if character == symbol:\n",
    "                num_count += 1\n",
    "                break\n",
    "    return num_count / len(emails)\n",
    "\n",
    "print(find_symbol_emails(emails, '1'))\n",
    "print(find_symbol_emails(emails, 'x'))"
   ]
  },
  {
   "cell_type": "markdown",
   "metadata": {},
   "source": [
    "# 2. Using function from the previous exercise\n",
    "Create another function that will have as an input list of emails and list of symbols and will return dictionary with symbol occurrence in email list.\n",
    "\n",
    "Example\n",
    "```python\n",
    ">>> find_symbol_list_emails(emails, ['1', '2', '+', '.'])\n",
    "{'1' : 0.375, '2' : 0.125, '+' : 0.125, '.' : 0}\n",
    "```"
   ]
  },
  {
   "cell_type": "code",
   "execution_count": 3,
   "metadata": {},
   "outputs": [
    {
     "name": "stdout",
     "output_type": "stream",
     "text": [
      "{'1': 0.375, '2': 0.125, '+': 0.125, '.': 1.0}\n"
     ]
    }
   ],
   "source": [
    "def find_symbol_list_emails(emails, symbols):    \n",
    "    return {symbol:find_symbol_emails(emails, symbol) for symbol in symbols}\n",
    "print(find_symbol_list_emails(emails, ['1', '2', '+', '.']))"
   ]
  },
  {
   "cell_type": "markdown",
   "metadata": {},
   "source": [
    "# 3. Write function to multiply all the numbers in a list\n",
    "e.g.\n",
    "```python\n",
    ">>> multiply([1,7,3], 3)\n",
    "[3, 21, 9]\n",
    "```"
   ]
  },
  {
   "cell_type": "code",
   "execution_count": 1,
   "metadata": {},
   "outputs": [
    {
     "name": "stdout",
     "output_type": "stream",
     "text": [
      "[3, 21, 9]\n"
     ]
    }
   ],
   "source": [
    "def multiply(numbers):\n",
    "    multiplyb = numbers[-1]\n",
    "    multiplya = numbers\n",
    "    del multiplya[-1]\n",
    "    result = [x * multiplyb for x in multiplya]\n",
    "    return result\n",
    "print(multiply([1, 7, 3, 3]))"
   ]
  },
  {
   "cell_type": "markdown",
   "metadata": {},
   "source": [
    "# 4. Write function that takes integer (x) and returns 3 values (x^2, x^3, x^4)\n",
    "\n",
    "e.g.\n",
    "```python\n",
    ">>>compute_num(2)\n",
    "4, 8, 16\n",
    "```"
   ]
  },
  {
   "cell_type": "code",
   "execution_count": 3,
   "metadata": {},
   "outputs": [
    {
     "data": {
      "text/plain": [
       "(4, 8, 16)"
      ]
     },
     "execution_count": 3,
     "metadata": {},
     "output_type": "execute_result"
    }
   ],
   "source": [
    "def compute(a):\n",
    "    b = a*a\n",
    "    c = a*a*a\n",
    "    d = a*a*a*a\n",
    "    return b, c, d\n",
    "\n",
    "compute(2)"
   ]
  },
  {
   "cell_type": "markdown",
   "metadata": {},
   "source": [
    "# 5. Create function to transform Fahrenheit degrees to Celsius\n",
    "e.g.\n",
    "\n",
    "```python\n",
    ">>> fahrenheit_to_celsius(212)\n",
    "100.0\n",
    ">>> fahrenheit_to_celsius(0)\n",
    "-17.7777778\n",
    "```"
   ]
  },
  {
   "cell_type": "code",
   "execution_count": 2,
   "metadata": {},
   "outputs": [
    {
     "data": {
      "text/plain": [
       "-17.77777777777778"
      ]
     },
     "execution_count": 2,
     "metadata": {},
     "output_type": "execute_result"
    }
   ],
   "source": [
    "def c(f):\n",
    "    c = ((f-32)*5)/9\n",
    "    return c\n",
    "\n",
    "c(0)"
   ]
  },
  {
   "cell_type": "markdown",
   "metadata": {},
   "source": [
    "# 6. Write function that accepts a single digit (n) and computes the value of nnn-nn-n\n",
    "\n",
    "```python\n",
    ">>> 111 - 11 - 1\n",
    "99\n",
    ">>> exercise_6(1)\n",
    "99\n",
    "```"
   ]
  },
  {
   "cell_type": "code",
   "execution_count": 6,
   "metadata": {},
   "outputs": [
    {
     "name": "stdout",
     "output_type": "stream",
     "text": [
      "99\n",
      "891\n",
      "Only single digit counting. Sorry : ) \n"
     ]
    }
   ],
   "source": [
    "def counting(number):\n",
    "    if number > 0 and number <= 9:\n",
    "        return (number*100+number*10+number) - (number*10+number) - number\n",
    "    else:\n",
    "        return 'Only single digit counting. Sorry : ) '\n",
    "print(counting(1))\n",
    "print(counting(9))\n",
    "print(counting(10))"
   ]
  },
  {
   "cell_type": "markdown",
   "metadata": {},
   "source": [
    "# 7. Lucky ticket\n",
    "Create function that\n",
    "1. Asks user to input 6-digit number\n",
    "2. Checks if input contains only numbers and has 6 numbers\n",
    "    - If no, ask user to type again\n",
    "3. Computes whether sum of first 3 digits equals to sum of last 3 digits\n",
    "    - If yes, prints congratulation\n",
    "\n",
    "Example\n",
    "```python\n",
    ">>> lucky_ticket()\n",
    "type 6-digit ticket number: 332440\n",
    "You are lucky person!\n",
    "```"
   ]
  },
  {
   "cell_type": "code",
   "execution_count": null,
   "metadata": {},
   "outputs": [],
   "source": [
    "# I've got some loops probably in the code and It did not work properly."
   ]
  },
  {
   "cell_type": "markdown",
   "metadata": {},
   "source": [
    "# 8. Get first and last elements\n",
    "Create a function that takes a list of numbers and makes a new list of only the first and last elements of the given list. \n",
    "\n",
    "e.g.\n",
    "```python\n",
    ">>> first_last([5, 10, 15, 20, 25])\n",
    "[5,25]\n",
    ">>> first_last([5])\n",
    "[5]\n",
    ">>> first_last([])\n",
    "[]\n",
    "```"
   ]
  },
  {
   "cell_type": "code",
   "execution_count": 4,
   "metadata": {},
   "outputs": [
    {
     "name": "stdout",
     "output_type": "stream",
     "text": [
      "[5, 25]\n",
      "[5]\n",
      "[]\n"
     ]
    }
   ],
   "source": [
    "def first_last(numbers):\n",
    "    result = []\n",
    "    if len(numbers) > 0:\n",
    "        result.append(numbers[0])\n",
    "    if len(numbers) > 1:\n",
    "        result.append(numbers[len(numbers)-1])\n",
    "    return result\n",
    "\n",
    "print(first_last([5, 10, 15, 20, 25]))\n",
    "print(first_last([5]))\n",
    "print(first_last([]))"
   ]
  },
  {
   "cell_type": "markdown",
   "metadata": {},
   "source": [
    "# 9. Create function to make all letters in string upper case and decorate the text with stars\n",
    "e.g.\n",
    "```python\n",
    ">>> make_fancy_string('hello')\n",
    "***HELLO***\n",
    "```"
   ]
  },
  {
   "cell_type": "code",
   "execution_count": 5,
   "metadata": {},
   "outputs": [
    {
     "name": "stdout",
     "output_type": "stream",
     "text": [
      "***HELLO***\n"
     ]
    }
   ],
   "source": [
    "def fancy(str):\n",
    "    text = \"***\" + str.upper() + \"***\"\n",
    "    print(text)\n",
    "    \n",
    "fancy('hello')"
   ]
  },
  {
   "cell_type": "markdown",
   "metadata": {},
   "source": [
    "# 10. Write function to check whether string is palindrome\n",
    "e.g.\n",
    "```python\n",
    ">>>check_palindrome('ABBA')\n",
    "True\n",
    "```"
   ]
  },
  {
   "cell_type": "code",
   "execution_count": 1,
   "metadata": {},
   "outputs": [
    {
     "data": {
      "text/plain": [
       "True"
      ]
     },
     "execution_count": 1,
     "metadata": {},
     "output_type": "execute_result"
    }
   ],
   "source": [
    "def palindrome(n):\n",
    "    return n == n[::-1]\n",
    "palindrome('ABBA')"
   ]
  },
  {
   "cell_type": "markdown",
   "metadata": {},
   "source": [
    "# BONUS: create function that has as an input 3 letters and returns all permutations of letters\n",
    "e.g.\n",
    "```python\n",
    ">>> permutations('abc')\n",
    "abc\n",
    "acb\n",
    "bac\n",
    "bca\n",
    "cab\n",
    "cba\n",
    "```"
   ]
  },
  {
   "cell_type": "code",
   "execution_count": 6,
   "metadata": {},
   "outputs": [
    {
     "data": {
      "text/plain": [
       "[['c', 'b', 'a'],\n",
       " ['b', 'c', 'a'],\n",
       " ['b', 'a', 'c'],\n",
       " ['c', 'a', 'b'],\n",
       " ['a', 'c', 'b'],\n",
       " ['a', 'b', 'c']]"
      ]
     },
     "execution_count": 6,
     "metadata": {},
     "output_type": "execute_result"
    }
   ],
   "source": [
    "def permute(nums):\n",
    "  result_perms = [[]]\n",
    "  for n in nums:\n",
    "    new_perms = []\n",
    "    for perm in result_perms:\n",
    "      for i in range(len(perm)+1):\n",
    "        new_perms.append(perm[:i] + [n] + perm[i:])\n",
    "        result_perms = new_perms\n",
    "  return result_perms\n",
    "\n",
    "permute('abc')"
   ]
  },
  {
   "cell_type": "code",
   "execution_count": null,
   "metadata": {},
   "outputs": [],
   "source": [
    "return [''.join(item) for item in result_perms]"
   ]
  }
 ],
 "metadata": {
  "kernelspec": {
   "display_name": "Python 3",
   "language": "python",
   "name": "python3"
  },
  "language_info": {
   "codemirror_mode": {
    "name": "ipython",
    "version": 3
   },
   "file_extension": ".py",
   "mimetype": "text/x-python",
   "name": "python",
   "nbconvert_exporter": "python",
   "pygments_lexer": "ipython3",
   "version": "3.7.0"
  }
 },
 "nbformat": 4,
 "nbformat_minor": 2
}
